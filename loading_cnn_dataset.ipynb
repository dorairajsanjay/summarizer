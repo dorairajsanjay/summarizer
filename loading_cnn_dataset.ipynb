{
 "cells": [
  {
   "cell_type": "markdown",
   "metadata": {},
   "source": [
    "## Loading CNN data\n",
    "\n",
    "This code is adapted from https://machinelearningmastery.com/prepare-news-articles-text-summarization/ for the purpose of loading data from CNN dataset."
   ]
  },
  {
   "cell_type": "code",
   "execution_count": 3,
   "metadata": {},
   "outputs": [
    {
     "name": "stdout",
     "output_type": "stream",
     "text": [
      "Loaded Stories 92579\n"
     ]
    }
   ],
   "source": [
    "from os import listdir\n",
    "import string\n",
    "\n",
    "# load doc into memory\n",
    "def load_doc(filename):\n",
    "\t# open the file as read only\n",
    "\tfile = open(filename, encoding='utf-8')\n",
    "\t# read all text\n",
    "\ttext = file.read()\n",
    "\t# close the file\n",
    "\tfile.close()\n",
    "\treturn text\n",
    "\n",
    "# split a document into news story and highlights\n",
    "def split_story(doc):\n",
    "\t# find first highlight\n",
    "\tindex = doc.find('@highlight')\n",
    "\t# split into story and highlights\n",
    "\tstory, highlights = doc[:index], doc[index:].split('@highlight')\n",
    "\t# strip extra white space around each highlight\n",
    "\thighlights = [h.strip() for h in highlights if len(h) > 0]\n",
    "\treturn story, highlights\n",
    "\n",
    "# load all stories in a directory\n",
    "def load_stories(directory):\n",
    "\tstories = list()\n",
    "\tfor name in listdir(directory):\n",
    "\t\tfilename = directory + '/' + name\n",
    "\t\t# load document\n",
    "\t\tdoc = load_doc(filename)\n",
    "\t\t# split into story and highlights\n",
    "\t\tstory, highlights = split_story(doc)\n",
    "\t\t# store\n",
    "\t\tstories.append({'story':story, 'highlights':highlights})\n",
    "\treturn stories\n",
    "\n",
    "# clean a list of lines\n",
    "def clean_lines(lines):\n",
    "\tcleaned = list()\n",
    "\t# prepare a translation table to remove punctuation\n",
    "\ttable = str.maketrans('', '', string.punctuation)\n",
    "\tfor line in lines:\n",
    "\t\t# strip source cnn office if it exists\n",
    "\t\tindex = line.find('(CNN) -- ')\n",
    "\t\tif index > -1:\n",
    "\t\t\tline = line[index+len('(CNN)'):]\n",
    "\t\t# tokenize on white space\n",
    "\t\tline = line.split()\n",
    "\t\t# convert to lower case\n",
    "\t\tline = [word.lower() for word in line]\n",
    "\t\t# remove punctuation from each token\n",
    "\t\tline = [w.translate(table) for w in line]\n",
    "\t\t# remove tokens with numbers in them\n",
    "\t\tline = [word for word in line if word.isalpha()]\n",
    "\t\t# store as string\n",
    "\t\tcleaned.append(' '.join(line))\n",
    "\t# remove empty strings\n",
    "\tcleaned = [c for c in cleaned if len(c) > 0]\n",
    "\treturn cleaned\n",
    "\n",
    "# load stories\n",
    "directory = 'data/cnn/stories/'\n",
    "stories = load_stories(directory)\n",
    "print('Loaded Stories %d' % len(stories))\n",
    "\n",
    "# clean stories\n",
    "for example in stories:\n",
    "\texample['story'] = clean_lines(example['story'].split('\\n'))\n",
    "\texample['highlights'] = clean_lines(example['highlights'])"
   ]
  },
  {
   "cell_type": "code",
   "execution_count": 11,
   "metadata": {},
   "outputs": [
    {
     "data": {
      "text/plain": [
       "{'highlights': ['new religious freedom is the underlying issue texas attorney general says',\n",
       "  'the issue has become a political flashpoint in a presidential election year',\n",
       "  'the lawsuit accuses the government of violating the first amendment',\n",
       "  'the obama administration adjusted its policy in an attempt at compromise'],\n",
       " 'story': ['seven states on thursday filed a lawsuit against the federal government requirement that religious employers offer health insurance coverage that includes contraceptives and other birth control services',\n",
       "  'the issue has become a political flashpoint in a presidential election year and the lawsuit by attorneys general from nebraska michigan ohio oklahoma south carolina florida and texas was certain to keep it prominent',\n",
       "  'private plaintiffs joining the seven states included pius x catholic high school catholic social services catholic mutual relief society of america and private citizens stacy molai and sister mary catherine',\n",
       "  'the lawsuit named the us department of health and human services and hhs secretary kathleen sebelius the us department of the treasury and treasury secretary timothy geithner and the us department of labor and labor secretary hilda solis as defendants',\n",
       "  'it alleges a violation of the first amendment and of the religious freedom restoration act saying that the requirement for employees at churchaffiliated institutions such as hospitals to receive health coverage for contraceptives and other birth control services contravened constitutionally protected religious freedom',\n",
       "  'government has no business forcing religious institutions and individuals to violate their sincerely held beliefs florida attorney general pam bondi said in a statement thursday this lawsuit is about protecting religious liberty and the rights of conscience our most basic freedoms as americans',\n",
       "  'texas attorney general greg abbott said the government rule under the health care reform law passed in compels people of faith to act contrary to their convictions',\n",
       "  'the very first amendment to our constitution was intended to protect against this sort of government intrusion into our religious convictions abbott said',\n",
       "  'abbott and bondi are republicans',\n",
       "  'officials from the white house and the department of justice had no comment on the pending litigation',\n",
       "  'however it is not the first court challenge to the obama administrations new mandate on contraceptive coverage',\n",
       "  'the becket fund for religious liberty has filed a series of lawsuits arguing that even the revised polices on contraception access would constitute a violation of their clients faith',\n",
       "  'last week the justice department urged judges to stay out of the controversy until a compromise can be worked out',\n",
       "  'at issue is whether religious institutions should be exempt from mandated employee coverage for birth control and other reproductive care',\n",
       "  'the administration announced a proposed compromise in the dispute earlier this month',\n",
       "  'under its new plan religiously affiliated universities and hospitals would not be forced to offer contraception coverage to their employees insurers will be required however to offer complete coverage for free to women who work at such institutions',\n",
       "  'in announcing the proposed compromise obama said no womans health should depend on who she is or where she works or how much money she makes he added that the principle of religious liberty was also at stake and as a citizen and as a christian i cherish this right',\n",
       "  'female employees at churches themselves will have no guarantee of any contraception coverage a continuation of current law',\n",
       "  'the us conference of catholic bishops denounced obamas compromise soon after the presidents announcement saying the proposal raises serious moral concerns according to a statement posted on its website',\n",
       "  'half of all americans polled say they oppose the obama administrations new policy according to a cnnorc international survey',\n",
       "  'the final version of the contraception requirement goes into effect next january the administration said that under a safe harbor provision no group can be forced to provide birth control at least until years end',\n",
       "  'cnns bill mears susan candiotti and vivian kuo contributed to this report']}"
      ]
     },
     "execution_count": 11,
     "metadata": {},
     "output_type": "execute_result"
    }
   ],
   "source": [
    "# examining one of the stories\n",
    "example"
   ]
  },
  {
   "cell_type": "code",
   "execution_count": 14,
   "metadata": {},
   "outputs": [
    {
     "data": {
      "text/plain": [
       "{'highlights': ['shutdown of greek broadcaster ert sparks protests',\n",
       "  'sophia ignatidou says shutdown was met with mixed feelings',\n",
       "  'democracy is being questioned in the country once deemed its cradle',\n",
       "  'ignatidou switching off state broadcaster will only exacerbate problems'],\n",
       " 'story': ['the irony was not lost on most viewers of the greek prime ministers statements as he replied to the public outcry over the hasty shutdown of ert the countrys national broadcaster with the immediate layoff of over employees like a wolf in sheeps clothing antonis samaras was chastising a system that his own new democracy party had helped to ingrain in greek society and political life',\n",
       "  'speaking at an award ceremony organized by the athens chamber of commerce and industry evea he labeled ert a symbol of corruption and waste and claimed it controlled the flow of information without any accountability constantly repeating righteous keywords such as transparency he tried to justify his decision to pull the plug on erts national and regional tv channels and radio stations around the country which greek taxpayers had been paying for for the past years',\n",
       "  'newlyunemployed former ert employees rebutted these attacks by issuing a statement revealing publically what had been common knowledge in greeces journalistic circles the final word always lies with the heads of the organization appointed by mr samaras',\n",
       "  'namely they pointed out it was the general director of ert emilios liatsos who decided that the anniversary of the paraskinio newspaper was more newsworthy than the tortures at gada last october in an article that led greek public order minister nikos dendrias to threaten the guardian with legal action antifascist protesters claimed they had been tortured by the police at the attica general police directorate gada the gada denied the claims',\n",
       "  'back then the government that now champions transparency went so far as to suspend erts morning show hosts kostas arvanitis and marilena katsimi for criticising dendriass response to the incident',\n",
       "  'only after this weeks announcement of erts closure under a presidential decree did its employees feel free to broadcast uncensored only in the final hours before the shutdown was economist and writer yiannis varoufakis able to reveal on tv that he had been banned from that very channel for two years and that on one of his appearances tv presenter elli stai had asked him not to mention the words debt restructuring',\n",
       "  'of course a portion of the public were aware of governmentimposed censorship and some even endorsed samaras recent drastic move but in a country where unemployment has reached a record per cent and cronyism has been the rule of the day for decades its slightly to believe the coalition government leaders claims of cleansing and of a will to reinstate transparency',\n",
       "  'the shutdown was met with mixed feelings not just among the viewers but also among the journalists themselves with some complaining about erts lack of support towards the rest of the media world that had been facing layoffs and company closures for more than three years the journalists should have already revolted on behalf of the pensioners one commentator said',\n",
       "  'this attack on freedom of speech still reverberating in the greek and international press has also divided the fragile coalition government itself the leaders of the other two junior coalition parties pasok and democratic left say they oppose samaras decision but are open to a reasonable compromise the new democracy leader needs their support for his decision to become law the alternative will render the coalition unsustainable pasok leader evangelos venizelos said his party doesnt want elections but were not afraid of them either',\n",
       "  'speculations about an imminent general election is already circulating in the greek press but venizelos and democratic left leader fotis kouvelis need to cling to power is likely to make them go along with samaras decision',\n",
       "  'they might try to buy time since at the moment international attention and support for ert is overwhelming the absolutist way in which samaras chose to act on his decision triggered a media revolt which was long overdue with blogs websites and ebu streaming erts service online',\n",
       "  'reporters without borders executive director christophe deloire deplored the closure explaining that such media shutdowns are usual in dictatorships and rare in democratic countries',\n",
       "  'the question of whether greece formerly known as the cradle of democracy still lives up to the title is a persistent one what is certain is that the current form of democracy is deeply flawed and unsurprisingly enough the media and the way they have operated for decades are part of the problem',\n",
       "  'but switching off the state broadcaster will only exacerbate the problems derailing democracy',\n",
       "  'a publiclyfunded broadcaster is by definition crucial to media pluralism simply because it doesnt have to make the financial choices privatelyfunded ones face especially in a country where the owners of private media firms are business magnates whose aim is to influence the political world',\n",
       "  'samaras and his coalition partners lack any credibility that would make a cleansing of the organisation possible the greek pm might claim he wants to get rid of the corrupt and sinful ert only to establish a new efficient organisation with only employees but the question is given the track record of his party who believes him',\n",
       "  'we have a short span memory we greeks he said last wednesday he must surely hope so',\n",
       "  'join us at facebookcnnopinion',\n",
       "  'the opinions expressed in this commentary are those of sophia ignatidou']}"
      ]
     },
     "execution_count": 14,
     "metadata": {},
     "output_type": "execute_result"
    }
   ],
   "source": [
    "stories[0]"
   ]
  },
  {
   "cell_type": "code",
   "execution_count": 15,
   "metadata": {},
   "outputs": [],
   "source": [
    "## Saving data to a pickle file for later use\n",
    "\n",
    "# save to file\n",
    "from pickle import dump\n",
    "dump(stories, open('cnn_dataset.pkl', 'wb'))"
   ]
  },
  {
   "cell_type": "code",
   "execution_count": null,
   "metadata": {},
   "outputs": [],
   "source": []
  }
 ],
 "metadata": {
  "kernelspec": {
   "display_name": "Environment (conda_tensorflow_p36)",
   "language": "python",
   "name": "conda_tensorflow_p36"
  },
  "language_info": {
   "codemirror_mode": {
    "name": "ipython",
    "version": 3
   },
   "file_extension": ".py",
   "mimetype": "text/x-python",
   "name": "python",
   "nbconvert_exporter": "python",
   "pygments_lexer": "ipython3",
   "version": "3.6.3"
  }
 },
 "nbformat": 4,
 "nbformat_minor": 2
}
